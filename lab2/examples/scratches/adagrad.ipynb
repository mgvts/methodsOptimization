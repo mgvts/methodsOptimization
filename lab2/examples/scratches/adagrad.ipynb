{
 "cells": [
  {
   "cell_type": "code",
   "execution_count": 1,
   "metadata": {},
   "outputs": [],
   "source": [
    "import util as u"
   ]
  },
  {
   "cell_type": "code",
   "execution_count": 2,
   "metadata": {},
   "outputs": [
    {
     "data": {
      "text/html": [
       "<div>\n",
       "<style scoped>\n",
       "    .dataframe tbody tr th:only-of-type {\n",
       "        vertical-align: middle;\n",
       "    }\n",
       "\n",
       "    .dataframe tbody tr th {\n",
       "        vertical-align: top;\n",
       "    }\n",
       "\n",
       "    .dataframe thead th {\n",
       "        text-align: right;\n",
       "    }\n",
       "</style>\n",
       "<table border=\"1\" class=\"dataframe\">\n",
       "  <thead>\n",
       "    <tr style=\"text-align: right;\">\n",
       "      <th></th>\n",
       "      <th>count</th>\n",
       "      <th>alpha</th>\n",
       "      <th>run</th>\n",
       "      <th>name</th>\n",
       "      <th>res_point</th>\n",
       "      <th>first_err</th>\n",
       "      <th>result_err</th>\n",
       "      <th>delta_time</th>\n",
       "      <th>math_iters</th>\n",
       "      <th>math_per_oper</th>\n",
       "    </tr>\n",
       "  </thead>\n",
       "  <tbody>\n",
       "    <tr>\n",
       "      <th>0</th>\n",
       "      <td>10</td>\n",
       "      <td>1</td>\n",
       "      <td>1001</td>\n",
       "      <td>adagrad</td>\n",
       "      <td>[1.610085490747614, 1.0834146570765388]</td>\n",
       "      <td>22300.993847</td>\n",
       "      <td>NaN</td>\n",
       "      <td>0.105904</td>\n",
       "      <td>12000</td>\n",
       "      <td>12</td>\n",
       "    </tr>\n",
       "    <tr>\n",
       "      <th>1</th>\n",
       "      <td>10</td>\n",
       "      <td>2</td>\n",
       "      <td>1001</td>\n",
       "      <td>adagrad</td>\n",
       "      <td>[1.9723492111005987, 1.005835118172833]</td>\n",
       "      <td>22300.993847</td>\n",
       "      <td>NaN</td>\n",
       "      <td>0.099676</td>\n",
       "      <td>12000</td>\n",
       "      <td>12</td>\n",
       "    </tr>\n",
       "    <tr>\n",
       "      <th>2</th>\n",
       "      <td>10</td>\n",
       "      <td>50</td>\n",
       "      <td>154</td>\n",
       "      <td>adagrad</td>\n",
       "      <td>[1.992674664495263, 1.0015749708301231]</td>\n",
       "      <td>22300.993847</td>\n",
       "      <td>0.000093</td>\n",
       "      <td>0.017888</td>\n",
       "      <td>1836</td>\n",
       "      <td>12</td>\n",
       "    </tr>\n",
       "    <tr>\n",
       "      <th>3</th>\n",
       "      <td>10</td>\n",
       "      <td>100</td>\n",
       "      <td>185</td>\n",
       "      <td>adagrad</td>\n",
       "      <td>[1.9924971094431048, 1.0015124045938186]</td>\n",
       "      <td>22300.993847</td>\n",
       "      <td>0.000097</td>\n",
       "      <td>0.014375</td>\n",
       "      <td>2208</td>\n",
       "      <td>12</td>\n",
       "    </tr>\n",
       "    <tr>\n",
       "      <th>4</th>\n",
       "      <td>10</td>\n",
       "      <td>1000000</td>\n",
       "      <td>135</td>\n",
       "      <td>adagrad</td>\n",
       "      <td>[2.0074059678864877, 0.998352874268054]</td>\n",
       "      <td>22300.993847</td>\n",
       "      <td>0.000097</td>\n",
       "      <td>0.015693</td>\n",
       "      <td>1608</td>\n",
       "      <td>12</td>\n",
       "    </tr>\n",
       "  </tbody>\n",
       "</table>\n",
       "</div>"
      ],
      "text/plain": [
       "   count    alpha   run     name                                 res_point   \n",
       "0     10        1  1001  adagrad   [1.610085490747614, 1.0834146570765388]  \\\n",
       "1     10        2  1001  adagrad   [1.9723492111005987, 1.005835118172833]   \n",
       "2     10       50   154  adagrad   [1.992674664495263, 1.0015749708301231]   \n",
       "3     10      100   185  adagrad  [1.9924971094431048, 1.0015124045938186]   \n",
       "4     10  1000000   135  adagrad   [2.0074059678864877, 0.998352874268054]   \n",
       "\n",
       "      first_err  result_err  delta_time  math_iters  math_per_oper  \n",
       "0  22300.993847         NaN    0.105904       12000             12  \n",
       "1  22300.993847         NaN    0.099676       12000             12  \n",
       "2  22300.993847    0.000093    0.017888        1836             12  \n",
       "3  22300.993847    0.000097    0.014375        2208             12  \n",
       "4  22300.993847    0.000097    0.015693        1608             12  "
      ]
     },
     "execution_count": 2,
     "metadata": {},
     "output_type": "execute_result"
    }
   ],
   "source": [
    "df = u.read_file(\"adagrad\")\n",
    "na_df = df[df[\"result_err\"].isna()]\n",
    "val_total_math_iter = int(na_df[na_df[\"count\"] == 10][\"math_iters\"].mean() / 1000)\n",
    "df.insert(\n",
    "    loc= len(df.columns),\n",
    "    column='math_per_oper',\n",
    "    value=[val_total_math_iter for i in range(df.shape[0])])\n",
    "df.head()"
   ]
  },
  {
   "cell_type": "code",
   "execution_count": 19,
   "metadata": {
    "scrolled": true
   },
   "outputs": [
    {
     "name": "stdout",
     "output_type": "stream",
     "text": [
      "\\begin{tabular}{lrrrllrrrr}\n",
      "\\toprule\n",
      " & count & alpha & run & name & res_point & first_err & result_err & delta_time & math_iters \\\\\n",
      "\\midrule\n",
      "0 & 10 & 1 & 1001 & adagrad & [1.6, 1.1] & 22300.993847 & NaN & 0.105904 & 12000 \\\\\n",
      "1 & 10 & 2 & 1001 & adagrad & [2.0, 1.0] & 22300.993847 & NaN & 0.099676 & 12000 \\\\\n",
      "2 & 10 & 50 & 154 & adagrad & [2.0, 1.0] & 22300.993847 & 0.000093 & 0.017888 & 1836 \\\\\n",
      "3 & 10 & 100 & 185 & adagrad & [2.0, 1.0] & 22300.993847 & 0.000097 & 0.014375 & 2208 \\\\\n",
      "4 & 10 & 1000000 & 135 & adagrad & [2.0, 1.0] & 22300.993847 & 0.000097 & 0.015693 & 1608 \\\\\n",
      "\\bottomrule\n",
      "\\end{tabular}\n",
      "\n"
     ]
    }
   ],
   "source": [
    "def toFixed(numObj, digits=0):\n",
    "    return f\"{numObj:.{digits}f}\"\n",
    "\n",
    "\n",
    "# df.head(5)\n",
    "print(df.head(5).to_latex(\n",
    "    formatters={\"res_point\": lambda x: [float(toFixed(i, 1)) for i in x]} \n",
    "                         ))"
   ]
  },
  {
   "cell_type": "markdown",
   "metadata": {},
   "source": [
    "решено было взять такие $\\alpha$ так в силу того что *adagrad* использует в себе корретирование $\\alpha$ и при меньшем алгоритм не успевает сойтись"
   ]
  },
  {
   "cell_type": "code",
   "execution_count": 6,
   "metadata": {},
   "outputs": [
    {
     "data": {
      "text/plain": [
       "array([      1,       2,      50,     100, 1000000], dtype=int64)"
      ]
     },
     "execution_count": 6,
     "metadata": {},
     "output_type": "execute_result"
    }
   ],
   "source": [
    "#get_alpha(df)\n",
    "df[\"alpha\"].unique()"
   ]
  },
  {
   "cell_type": "markdown",
   "metadata": {},
   "source": [
    "для испытания кода, бралось 4 точки, (±10, ±10), ниже представлен код когда не сошлось"
   ]
  },
  {
   "cell_type": "code",
   "execution_count": 8,
   "metadata": {
    "scrolled": true
   },
   "outputs": [
    {
     "data": {
      "text/plain": [
       "alpha\n",
       "1          28\n",
       "2          25\n",
       "50          0\n",
       "100         0\n",
       "1000000     0\n",
       "Name: result_err, dtype: int64"
      ]
     },
     "execution_count": 8,
     "metadata": {},
     "output_type": "execute_result"
    }
   ],
   "source": [
    "df.groupby('alpha')['result_err'].apply(lambda x: x.isna().sum())"
   ]
  },
  {
   "cell_type": "code",
   "execution_count": 11,
   "metadata": {},
   "outputs": [
    {
     "name": "stdout",
     "output_type": "stream",
     "text": [
      "\\begin{tabular}{lr}\n",
      "\\toprule\n",
      " & result_err \\\\\n",
      "alpha &  \\\\\n",
      "\\midrule\n",
      "1 & 28 \\\\\n",
      "2 & 25 \\\\\n",
      "50 & 0 \\\\\n",
      "100 & 0 \\\\\n",
      "1000000 & 0 \\\\\n",
      "\\bottomrule\n",
      "\\end{tabular}\n",
      "\n"
     ]
    }
   ],
   "source": [
    "print(df.groupby('alpha')['result_err'].apply(lambda x: x.isna().sum())\\\n",
    ".to_latex())"
   ]
  },
  {
   "cell_type": "markdown",
   "metadata": {},
   "source": [
    "далее удалим те методы которые не сошлись из статистики"
   ]
  },
  {
   "cell_type": "code",
   "execution_count": 52,
   "metadata": {},
   "outputs": [],
   "source": [
    "df_na = df.dropna()"
   ]
  },
  {
   "cell_type": "markdown",
   "metadata": {},
   "source": [
    "среднее значение итераций, для каждого количества точек и выбрынных $\\alpha$"
   ]
  },
  {
   "cell_type": "code",
   "execution_count": 53,
   "metadata": {},
   "outputs": [
    {
     "data": {
      "text/plain": [
       "count  alpha  \n",
       "10     50         206.25\n",
       "       100        213.50\n",
       "       1000000    245.00\n",
       "40     50         224.50\n",
       "       100        247.50\n",
       "       1000000    234.25\n",
       "70     50         179.25\n",
       "       100        193.00\n",
       "       1000000    201.00\n",
       "100    2          874.00\n",
       "       50         165.25\n",
       "       100        158.75\n",
       "       1000000    170.25\n",
       "130    2          834.00\n",
       "       50         151.50\n",
       "       100        170.75\n",
       "       1000000    182.00\n",
       "160    50         197.50\n",
       "       100        207.75\n",
       "       1000000    230.25\n",
       "190    2          851.00\n",
       "       50         156.75\n",
       "       100        164.25\n",
       "       1000000    170.75\n",
       "Name: run, dtype: float64"
      ]
     },
     "execution_count": 53,
     "metadata": {},
     "output_type": "execute_result"
    }
   ],
   "source": [
    "df_na.groupby(['count', 'alpha'])['run'].apply(lambda x: x.mean())"
   ]
  },
  {
   "cell_type": "code",
   "execution_count": 54,
   "metadata": {},
   "outputs": [
    {
     "data": {
      "text/plain": [
       "count  alpha  \n",
       "10     50         0.020884\n",
       "       100        0.021578\n",
       "       1000000    0.026606\n",
       "40     50         0.051529\n",
       "       100        0.055989\n",
       "       1000000    0.053997\n",
       "70     50         0.068468\n",
       "       100        0.072524\n",
       "       1000000    0.075452\n",
       "100    2          0.504441\n",
       "       50         0.099972\n",
       "       100        0.084320\n",
       "       1000000    0.095548\n",
       "130    2          0.717907\n",
       "       50         0.110240\n",
       "       100        0.124477\n",
       "       1000000    0.134439\n",
       "160    50         0.197378\n",
       "       100        0.206002\n",
       "       1000000    0.228659\n",
       "190    2          1.066304\n",
       "       50         0.194170\n",
       "       100        0.207005\n",
       "       1000000    0.219662\n",
       "Name: delta_time, dtype: float64"
      ]
     },
     "execution_count": 54,
     "metadata": {},
     "output_type": "execute_result"
    }
   ],
   "source": [
    "df_na.groupby(['count', 'alpha'])['delta_time'].apply(lambda x: x.mean())"
   ]
  },
  {
   "cell_type": "code",
   "execution_count": 56,
   "metadata": {},
   "outputs": [
    {
     "data": {
      "text/plain": [
       "0.19323133180538812"
      ]
     },
     "execution_count": 56,
     "metadata": {},
     "output_type": "execute_result"
    }
   ],
   "source": [
    "df_na.groupby(['count', 'alpha'])['delta_time'].apply(lambda x: x.mean()).mean()"
   ]
  },
  {
   "cell_type": "code",
   "execution_count": 55,
   "metadata": {},
   "outputs": [
    {
     "data": {
      "text/plain": [
       "count  alpha  \n",
       "10     50          2463.0\n",
       "       100         2550.0\n",
       "       1000000     2928.0\n",
       "40     50          2682.0\n",
       "       100         2958.0\n",
       "       1000000     2799.0\n",
       "70     50          2139.0\n",
       "       100         2304.0\n",
       "       1000000     2400.0\n",
       "100    2          10476.0\n",
       "       50          1971.0\n",
       "       100         1893.0\n",
       "       1000000     2031.0\n",
       "130    2           9996.0\n",
       "       50          1806.0\n",
       "       100         2037.0\n",
       "       1000000     2172.0\n",
       "160    50          2358.0\n",
       "       100         2481.0\n",
       "       1000000     2751.0\n",
       "190    2          10200.0\n",
       "       50          1869.0\n",
       "       100         1959.0\n",
       "       1000000     2037.0\n",
       "Name: math_iters, dtype: float64"
      ]
     },
     "execution_count": 55,
     "metadata": {},
     "output_type": "execute_result"
    }
   ],
   "source": [
    "df_na.groupby(['count', 'alpha'])['math_iters'].apply(lambda x: x.mean())"
   ]
  },
  {
   "cell_type": "code",
   "execution_count": 60,
   "metadata": {},
   "outputs": [
    {
     "data": {
      "text/plain": [
       "3302.5"
      ]
     },
     "execution_count": 60,
     "metadata": {},
     "output_type": "execute_result"
    }
   ],
   "source": [
    "df_na.groupby(['count', 'alpha'])['math_iters'].apply(lambda x: x.mean()).mean()"
   ]
  },
  {
   "cell_type": "markdown",
   "metadata": {},
   "source": [
    "как стало видно, почти все методы имеют около 3к математических действий и примерно 0.2 мс на выполнение"
   ]
  }
 ],
 "metadata": {
  "kernelspec": {
   "display_name": "Python 3 (ipykernel)",
   "language": "python",
   "name": "python3"
  },
  "language_info": {
   "codemirror_mode": {
    "name": "ipython",
    "version": 3
   },
   "file_extension": ".py",
   "mimetype": "text/x-python",
   "name": "python",
   "nbconvert_exporter": "python",
   "pygments_lexer": "ipython3",
   "version": "3.10.2"
  }
 },
 "nbformat": 4,
 "nbformat_minor": 1
}