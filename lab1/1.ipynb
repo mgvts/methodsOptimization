{
 "cells": [
  {
   "cell_type": "code",
   "execution_count": 14,
   "id": "6a908bde",
   "metadata": {
    "scrolled": true
   },
   "outputs": [
    {
     "name": "stdout",
     "output_type": "stream",
     "text": [
      "-0.200000000000000\n",
      "-0.360000000000000\n",
      "-0.488000000000000\n",
      "-0.590400000000000\n",
      "-0.672320000000000\n",
      "-0.737856000000000\n",
      "-0.790284800000000\n",
      "-0.832227840000000\n",
      "-0.865782272000000\n",
      "-0.892625817600000\n",
      "-0.914100654080000\n",
      "-0.931280523264000\n",
      "-0.945024418611200\n",
      "-0.956019534888960\n",
      "-0.964815627911168\n",
      "-0.971852502328934\n",
      "-0.977482001863147\n",
      "-0.981985601490518\n",
      "-0.985588481192414\n",
      "-0.988470784953931\n",
      "-0.990776627963145\n",
      "-0.992621302370516\n",
      "-0.994097041896413\n",
      "-0.995277633517130\n",
      "-0.995277633517130\n"
     ]
    }
   ],
   "source": [
    "#conspects page 31\n",
    "from tools import Func\n",
    "\n",
    "\n",
    "stringFunc = \"x0^2 + 2*x0 + 1\"\n",
    "f = Func(1, stringFunc)\n",
    "eps = 0.01\n",
    "alpha = 0.1\n",
    "x = 0\n",
    "\n",
    "while True:\n",
    "    #||∇f(x)|| < ε\n",
    "    if f.grad().eval([(\"x0\", x)]) < eps:\n",
    "        break\n",
    "\n",
    "    y = x - alpha * f.grad().eval([(\"x0\", x)])\n",
    "    if f.eval([(\"x0\", y)]) < f.eval([(\"x0\", x)]):\n",
    "        x = y\n",
    "\n",
    "        # alpha = const in 1st task\n",
    "        # alpha = alpha / 2\n",
    "    print(x)\n",
    "print(x)\n",
    "\n",
    "\n",
    "\n"
   ]
  },
  {
   "cell_type": "code",
   "execution_count": null,
   "id": "744b4261",
   "metadata": {},
   "outputs": [],
   "source": []
  }
 ],
 "metadata": {
  "kernelspec": {
   "display_name": "Python 3 (ipykernel)",
   "language": "python",
   "name": "python3"
  },
  "language_info": {
   "codemirror_mode": {
    "name": "ipython",
    "version": 3
   },
   "file_extension": ".py",
   "mimetype": "text/x-python",
   "name": "python",
   "nbconvert_exporter": "python",
   "pygments_lexer": "ipython3",
   "version": "3.10.2"
  }
 },
 "nbformat": 4,
 "nbformat_minor": 5
}
