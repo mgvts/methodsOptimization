{
 "cells": [
  {
   "cell_type": "code",
   "execution_count": 1,
   "metadata": {
    "collapsed": true
   },
   "outputs": [
    {
     "ename": "ModuleNotFoundError",
     "evalue": "No module named 'tools'",
     "output_type": "error",
     "traceback": [
      "\u001B[1;31m---------------------------------------------------------------------------\u001B[0m",
      "\u001B[1;31mModuleNotFoundError\u001B[0m                       Traceback (most recent call last)",
      "Cell \u001B[1;32mIn[1], line 2\u001B[0m\n\u001B[0;32m      1\u001B[0m \u001B[38;5;66;03m#conspects page 31\u001B[39;00m\n\u001B[1;32m----> 2\u001B[0m \u001B[38;5;28;01mfrom\u001B[39;00m \u001B[38;5;21;01mtools\u001B[39;00m \u001B[38;5;28;01mimport\u001B[39;00m Func\n\u001B[0;32m      3\u001B[0m \u001B[38;5;28;01mimport\u001B[39;00m \u001B[38;5;21;01msympy\u001B[39;00m \u001B[38;5;28;01mas\u001B[39;00m \u001B[38;5;21;01msp\u001B[39;00m\n\u001B[0;32m      4\u001B[0m \u001B[38;5;28;01mimport\u001B[39;00m \u001B[38;5;21;01mmath\u001B[39;00m\n",
      "\u001B[1;31mModuleNotFoundError\u001B[0m: No module named 'tools'"
     ]
    }
   ],
   "source": [
    "#conspects page 31\n",
    "from tools import Func\n",
    "import sympy as sp\n",
    "import math\n",
    "\n",
    "\n",
    "# lambda_k=min_{\\lambda} (\\,f(x^{[k]}-\\lambda\\nabla f(x^{[k]}))\n",
    "def findMin():\n",
    "    def calc_min_iterations():\n",
    "        return sp.log((b - a - delta) / (2 * eps - delta), 2)\n",
    "\n",
    "    a = 0\n",
    "    b = 1\n",
    "    eps = 0.001\n",
    "    delta = 0.0015\n",
    "    N = math.ceil(calc_min_iterations())\n",
    "    x1 = (a + b - delta) / 2\n",
    "    x2 = (a + b + delta) / 2\n",
    "    for i in range(N):\n",
    "        print(f\"{x1 = } {x2 = } {f.eval([('x0', x1)]) = } {f.eval([('x0', x2)]) = }\")\n",
    "        #1 step\n",
    "        x1 = (a + b - delta) / 2\n",
    "        x2 = (a + b + delta) / 2\n",
    "\n",
    "        #2 step\n",
    "        if f.eval([('x0', x1)]) <= f.eval([('x0', x2)]):\n",
    "            b = x2\n",
    "        else:\n",
    "            a = x1\n",
    "\n",
    "        #3 step\n",
    "        eps_i = (b - a) / 2\n",
    "        if eps_i <= eps:\n",
    "            break\n",
    "    return (a + b) / 2\n",
    "\n",
    "\n",
    "stringFunc = \"x0^2 + 2*x0 + 1\"\n",
    "f = Func(1, stringFunc)\n",
    "eps = 0.01\n",
    "alpha = 0.1\n",
    "x = -1_000_000\n",
    "\n",
    "while True:\n",
    "    #||∇f(x)|| < ε\n",
    "    if f.metric_of_gradient_in_point([(\"x0\", x)]) < eps:\n",
    "        break\n",
    "    while True:\n",
    "        y = x - alpha * f.grad().eval([(\"x0\", x)])\n",
    "        if f.eval([(\"x0\", y)]) < f.eval([(\"x0\", x)]):\n",
    "            x = y\n",
    "            break\n",
    "        alpha = findMin()\n",
    "    print(f\"{x = }\")\n",
    "    print(f\"{alpha = }\")\n",
    "\n",
    "print(x)\n",
    "\n",
    "\n",
    "\n"
   ]
  }
 ],
 "metadata": {
  "kernelspec": {
   "display_name": "Python 3",
   "language": "python",
   "name": "python3"
  },
  "language_info": {
   "codemirror_mode": {
    "name": "ipython",
    "version": 2
   },
   "file_extension": ".py",
   "mimetype": "text/x-python",
   "name": "python",
   "nbconvert_exporter": "python",
   "pygments_lexer": "ipython2",
   "version": "2.7.6"
  }
 },
 "nbformat": 4,
 "nbformat_minor": 0
}