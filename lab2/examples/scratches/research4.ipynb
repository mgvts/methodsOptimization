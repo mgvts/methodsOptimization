{
 "cells": [
  {
   "cell_type": "code",
   "execution_count": 1,
   "id": "7bd71d41",
   "metadata": {},
   "outputs": [],
   "source": [
    "import util as u\n",
    "import pandas as pd"
   ]
  },
  {
   "cell_type": "code",
   "execution_count": 2,
   "id": "346a8535",
   "metadata": {},
   "outputs": [],
   "source": [
    "adagrad = u.read_file(\"adagrad\")\n",
    "adam = u.read_file(\"adam\")\n",
    "momentum = u.read_file(\"momentum\")\n",
    "rms = u.read_file(\"rms\")\n",
    "nesterov = u.read_file(\"nesterov\")\n",
    "all_df = [adagrad, adam, momentum, rms, nesterov]\n",
    "names = [\"adagrad\",\"adam\",\"momentum\",\"rms\",\"nesterov\"]\n",
    "# adagrad = u.read_file(\"stochastic\")"
   ]
  },
  {
   "cell_type": "code",
   "execution_count": 3,
   "id": "e923f67f",
   "metadata": {},
   "outputs": [],
   "source": [
    "def create_math_per_oper(dff):\n",
    "    df = dff.copy()\n",
    "    na_df = df[df[\"result_err\"].isna()]\n",
    "    val_total_math_iter = int(na_df[na_df[\"count\"] == 10][\"math_iters\"].mean() / 1000)\n",
    "    df.insert(\n",
    "        loc= len(df.columns),\n",
    "        column='math_per_oper',\n",
    "        value=[val_total_math_iter for i in range(df.shape[0])])\n",
    "    return df"
   ]
  },
  {
   "cell_type": "code",
   "execution_count": 4,
   "id": "33995274",
   "metadata": {},
   "outputs": [
    {
     "name": "stdout",
     "output_type": "stream",
     "text": [
      "\\begin{tabular}{lrrlrrlrrlrrlrrlr}\n",
      "\\toprule\n",
      " & count & alpha & name & run & alpha_adam & name_adam & run_adam & alpha_momentum & name_momentum & run_momentum & alpha_rms & name_rms & run_rms & alpha_nesterov & name_nesterov & run_nesterov \\\\\n",
      "\\midrule\n",
      "0 & 10 & 50 & adagrad & 206.250000 & 0.200000 & adam & 309.000000 & 0.005000 & momentum & 128.000000 & 0.100000 & rms & 270.000000 & 0.000100 & nesterov & 1001.000000 \\\\\n",
      "1 & 40 & 50 & adagrad & 224.500000 & 0.200000 & adam & 352.666667 & 0.002500 & momentum & 99.750000 & 0.100000 & rms & 213.750000 & 0.001000 & nesterov & 452.250000 \\\\\n",
      "2 & 70 & 50 & adagrad & 179.250000 & 0.100000 & adam & 410.000000 & 0.001250 & momentum & 162.500000 & 0.500000 & rms & 140.750000 & 0.001000 & nesterov & 154.250000 \\\\\n",
      "3 & 100 & 100 & adagrad & 158.750000 & 0.200000 & adam & 352.666667 & 0.001000 & momentum & 93.250000 & 0.250000 & rms & 144.750000 & 0.000700 & nesterov & 192.750000 \\\\\n",
      "4 & 130 & 50 & adagrad & 151.500000 & 0.100000 & adam & 359.000000 & 0.001000 & momentum & 92.250000 & 1.000000 & rms & 180.500000 & 0.000500 & nesterov & 164.000000 \\\\\n",
      "5 & 160 & 50 & adagrad & 197.500000 & 0.075000 & adam & 432.000000 & 0.000750 & momentum & 93.250000 & 0.250000 & rms & 183.250000 & 0.000500 & nesterov & 128.750000 \\\\\n",
      "6 & 190 & 50 & adagrad & 156.750000 & 1.000000 & adam & 346.000000 & 0.000750 & momentum & 97.750000 & 0.500000 & rms & 220.250000 & 0.000400 & nesterov & 138.250000 \\\\\n",
      "\\bottomrule\n",
      "\\end{tabular}\n",
      "\n"
     ]
    }
   ],
   "source": [
    "df_min_iter = pd.DataFrame([10 * i for i in range(1, 22, 3)], columns=[\"count\"])\n",
    "\n",
    "def create_count_alpha_and_iter(dff, name):\n",
    "    df = dff.copy()\n",
    "    df=  pd.DataFrame(df.dropna().groupby(['count', 'alpha'])['run'].apply(lambda x: x.mean()), columns=[\"run\"])\n",
    "    df = df.loc[df.groupby(level=0).run.idxmin()]\n",
    "    df.insert(0, \"name\", [name for i in range(7)])\n",
    "    return df.reset_index()\n",
    "\n",
    "# df_min_iter\n",
    "# create_count_alpha_and_iter(rms, \"rms\")\n",
    "\n",
    "for method, name in zip(all_df, names):\n",
    "    df_min_iter = df_min_iter.join(create_count_alpha_and_iter(method, name).set_index('count'),\n",
    "                          rsuffix=f\"_{name}\", on=\"count\")\n",
    "    \n",
    "print(df_min_iter.to_latex())   "
   ]
  },
  {
   "cell_type": "code",
   "execution_count": 5,
   "id": "a582a77e",
   "metadata": {},
   "outputs": [
    {
     "name": "stdout",
     "output_type": "stream",
     "text": [
      "\\begin{tabular}{lrrlr}\n",
      "\\toprule\n",
      " & count & alpha & name & run \\\\\n",
      "\\midrule\n",
      "0 & 10 & 50.000000 & adagrad & 206.250000 \\\\\n",
      "1 & 40 & 50.000000 & adagrad & 224.500000 \\\\\n",
      "2 & 70 & 50.000000 & adagrad & 179.250000 \\\\\n",
      "3 & 100 & 100.000000 & adagrad & 158.750000 \\\\\n",
      "4 & 130 & 50.000000 & adagrad & 151.500000 \\\\\n",
      "5 & 160 & 50.000000 & adagrad & 197.500000 \\\\\n",
      "6 & 190 & 50.000000 & adagrad & 156.750000 \\\\\n",
      "0 & 10 & 0.200000 & adam & 309.000000 \\\\\n",
      "1 & 40 & 0.200000 & adam & 352.666667 \\\\\n",
      "2 & 70 & 0.100000 & adam & 410.000000 \\\\\n",
      "3 & 100 & 0.200000 & adam & 352.666667 \\\\\n",
      "4 & 130 & 0.100000 & adam & 359.000000 \\\\\n",
      "5 & 160 & 0.075000 & adam & 432.000000 \\\\\n",
      "6 & 190 & 1.000000 & adam & 346.000000 \\\\\n",
      "0 & 10 & 0.005000 & momentum & 128.000000 \\\\\n",
      "1 & 40 & 0.002500 & momentum & 99.750000 \\\\\n",
      "2 & 70 & 0.001250 & momentum & 162.500000 \\\\\n",
      "3 & 100 & 0.001000 & momentum & 93.250000 \\\\\n",
      "4 & 130 & 0.001000 & momentum & 92.250000 \\\\\n",
      "5 & 160 & 0.000750 & momentum & 93.250000 \\\\\n",
      "6 & 190 & 0.000750 & momentum & 97.750000 \\\\\n",
      "0 & 10 & 0.100000 & rms & 270.000000 \\\\\n",
      "1 & 40 & 0.100000 & rms & 213.750000 \\\\\n",
      "2 & 70 & 0.500000 & rms & 140.750000 \\\\\n",
      "3 & 100 & 0.250000 & rms & 144.750000 \\\\\n",
      "4 & 130 & 1.000000 & rms & 180.500000 \\\\\n",
      "5 & 160 & 0.250000 & rms & 183.250000 \\\\\n",
      "6 & 190 & 0.500000 & rms & 220.250000 \\\\\n",
      "0 & 10 & 0.000100 & nesterov & 1001.000000 \\\\\n",
      "1 & 40 & 0.001000 & nesterov & 452.250000 \\\\\n",
      "2 & 70 & 0.001000 & nesterov & 154.250000 \\\\\n",
      "3 & 100 & 0.000700 & nesterov & 192.750000 \\\\\n",
      "4 & 130 & 0.000500 & nesterov & 164.000000 \\\\\n",
      "5 & 160 & 0.000500 & nesterov & 128.750000 \\\\\n",
      "6 & 190 & 0.000400 & nesterov & 138.250000 \\\\\n",
      "\\bottomrule\n",
      "\\end{tabular}\n",
      "\n"
     ]
    }
   ],
   "source": [
    "df_min_iter = pd.DataFrame()\n",
    "\n",
    "def create_count_alpha_and_iter(dff, name):\n",
    "    df = dff.copy()\n",
    "    df=  pd.DataFrame(df.dropna().groupby(['count', 'alpha'])['run'].apply(lambda x: x.mean()), columns=[\"run\"])\n",
    "    df = df.loc[df.groupby(level=0).run.idxmin()]\n",
    "    df.insert(0, \"name\", [name for i in range(7)])\n",
    "    return df.reset_index()\n",
    "\n",
    "\n",
    "\n",
    "for method, name in zip(all_df, names):\n",
    "    df_min_iter = pd.concat([df_min_iter, create_count_alpha_and_iter(method, name)])\n",
    "    \n",
    "df_min_iter\n",
    "print(df_min_iter.to_latex())"
   ]
  },
  {
   "cell_type": "code",
   "execution_count": 6,
   "id": "a85d4b0e",
   "metadata": {},
   "outputs": [
    {
     "name": "stdout",
     "output_type": "stream",
     "text": [
      "\\begin{tabular}{lrrlr}\n",
      "\\toprule\n",
      " & count & alpha & name & run \\\\\n",
      "\\midrule\n",
      "0 & 10 & 0.005000 & momentum & 128.000000 \\\\\n",
      "0 & 10 & 50.000000 & adagrad & 206.250000 \\\\\n",
      "0 & 10 & 0.100000 & rms & 270.000000 \\\\\n",
      "0 & 10 & 0.200000 & adam & 309.000000 \\\\\n",
      "0 & 10 & 0.000100 & nesterov & 1001.000000 \\\\\n",
      "1 & 40 & 0.002500 & momentum & 99.750000 \\\\\n",
      "1 & 40 & 0.100000 & rms & 213.750000 \\\\\n",
      "1 & 40 & 50.000000 & adagrad & 224.500000 \\\\\n",
      "1 & 40 & 0.200000 & adam & 352.666667 \\\\\n",
      "1 & 40 & 0.001000 & nesterov & 452.250000 \\\\\n",
      "2 & 70 & 0.500000 & rms & 140.750000 \\\\\n",
      "2 & 70 & 0.001000 & nesterov & 154.250000 \\\\\n",
      "2 & 70 & 0.001250 & momentum & 162.500000 \\\\\n",
      "2 & 70 & 50.000000 & adagrad & 179.250000 \\\\\n",
      "2 & 70 & 0.100000 & adam & 410.000000 \\\\\n",
      "3 & 100 & 0.001000 & momentum & 93.250000 \\\\\n",
      "3 & 100 & 0.250000 & rms & 144.750000 \\\\\n",
      "3 & 100 & 100.000000 & adagrad & 158.750000 \\\\\n",
      "3 & 100 & 0.000700 & nesterov & 192.750000 \\\\\n",
      "3 & 100 & 0.200000 & adam & 352.666667 \\\\\n",
      "4 & 130 & 0.001000 & momentum & 92.250000 \\\\\n",
      "4 & 130 & 50.000000 & adagrad & 151.500000 \\\\\n",
      "4 & 130 & 0.000500 & nesterov & 164.000000 \\\\\n",
      "4 & 130 & 1.000000 & rms & 180.500000 \\\\\n",
      "4 & 130 & 0.100000 & adam & 359.000000 \\\\\n",
      "5 & 160 & 0.000750 & momentum & 93.250000 \\\\\n",
      "5 & 160 & 0.000500 & nesterov & 128.750000 \\\\\n",
      "5 & 160 & 0.250000 & rms & 183.250000 \\\\\n",
      "5 & 160 & 50.000000 & adagrad & 197.500000 \\\\\n",
      "5 & 160 & 0.075000 & adam & 432.000000 \\\\\n",
      "6 & 190 & 0.000750 & momentum & 97.750000 \\\\\n",
      "6 & 190 & 0.000400 & nesterov & 138.250000 \\\\\n",
      "6 & 190 & 50.000000 & adagrad & 156.750000 \\\\\n",
      "6 & 190 & 0.500000 & rms & 220.250000 \\\\\n",
      "6 & 190 & 1.000000 & adam & 346.000000 \\\\\n",
      "\\bottomrule\n",
      "\\end{tabular}\n",
      "\n"
     ]
    }
   ],
   "source": [
    "print(df_min_iter.sort_values(by=[\"count\", \"run\"]).to_latex())"
   ]
  },
  {
   "cell_type": "code",
   "execution_count": 7,
   "id": "d55473d6",
   "metadata": {},
   "outputs": [
    {
     "data": {
      "text/plain": "   count      alpha      name          run\n0     10   50.00000   adagrad   206.250000\n1     40   50.00000   adagrad   224.500000\n2     70   50.00000   adagrad   179.250000\n3    100  100.00000   adagrad   158.750000\n4    130   50.00000   adagrad   151.500000\n5    160   50.00000   adagrad   197.500000\n6    190   50.00000   adagrad   156.750000\n0     10    0.20000      adam   309.000000\n1     40    0.20000      adam   352.666667\n2     70    0.10000      adam   410.000000\n3    100    0.20000      adam   352.666667\n4    130    0.10000      adam   359.000000\n5    160    0.07500      adam   432.000000\n6    190    1.00000      adam   346.000000\n0     10    0.00500  momentum   128.000000\n1     40    0.00250  momentum    99.750000\n2     70    0.00125  momentum   162.500000\n3    100    0.00100  momentum    93.250000\n4    130    0.00100  momentum    92.250000\n5    160    0.00075  momentum    93.250000\n6    190    0.00075  momentum    97.750000\n0     10    0.10000       rms   270.000000\n1     40    0.10000       rms   213.750000\n2     70    0.50000       rms   140.750000\n3    100    0.25000       rms   144.750000\n4    130    1.00000       rms   180.500000\n5    160    0.25000       rms   183.250000\n6    190    0.50000       rms   220.250000\n0     10    0.00010  nesterov  1001.000000\n1     40    0.00100  nesterov   452.250000\n2     70    0.00100  nesterov   154.250000\n3    100    0.00070  nesterov   192.750000\n4    130    0.00050  nesterov   164.000000\n5    160    0.00050  nesterov   128.750000\n6    190    0.00040  nesterov   138.250000",
      "text/html": "<div>\n<style scoped>\n    .dataframe tbody tr th:only-of-type {\n        vertical-align: middle;\n    }\n\n    .dataframe tbody tr th {\n        vertical-align: top;\n    }\n\n    .dataframe thead th {\n        text-align: right;\n    }\n</style>\n<table border=\"1\" class=\"dataframe\">\n  <thead>\n    <tr style=\"text-align: right;\">\n      <th></th>\n      <th>count</th>\n      <th>alpha</th>\n      <th>name</th>\n      <th>run</th>\n    </tr>\n  </thead>\n  <tbody>\n    <tr>\n      <th>0</th>\n      <td>10</td>\n      <td>50.00000</td>\n      <td>adagrad</td>\n      <td>206.250000</td>\n    </tr>\n    <tr>\n      <th>1</th>\n      <td>40</td>\n      <td>50.00000</td>\n      <td>adagrad</td>\n      <td>224.500000</td>\n    </tr>\n    <tr>\n      <th>2</th>\n      <td>70</td>\n      <td>50.00000</td>\n      <td>adagrad</td>\n      <td>179.250000</td>\n    </tr>\n    <tr>\n      <th>3</th>\n      <td>100</td>\n      <td>100.00000</td>\n      <td>adagrad</td>\n      <td>158.750000</td>\n    </tr>\n    <tr>\n      <th>4</th>\n      <td>130</td>\n      <td>50.00000</td>\n      <td>adagrad</td>\n      <td>151.500000</td>\n    </tr>\n    <tr>\n      <th>5</th>\n      <td>160</td>\n      <td>50.00000</td>\n      <td>adagrad</td>\n      <td>197.500000</td>\n    </tr>\n    <tr>\n      <th>6</th>\n      <td>190</td>\n      <td>50.00000</td>\n      <td>adagrad</td>\n      <td>156.750000</td>\n    </tr>\n    <tr>\n      <th>0</th>\n      <td>10</td>\n      <td>0.20000</td>\n      <td>adam</td>\n      <td>309.000000</td>\n    </tr>\n    <tr>\n      <th>1</th>\n      <td>40</td>\n      <td>0.20000</td>\n      <td>adam</td>\n      <td>352.666667</td>\n    </tr>\n    <tr>\n      <th>2</th>\n      <td>70</td>\n      <td>0.10000</td>\n      <td>adam</td>\n      <td>410.000000</td>\n    </tr>\n    <tr>\n      <th>3</th>\n      <td>100</td>\n      <td>0.20000</td>\n      <td>adam</td>\n      <td>352.666667</td>\n    </tr>\n    <tr>\n      <th>4</th>\n      <td>130</td>\n      <td>0.10000</td>\n      <td>adam</td>\n      <td>359.000000</td>\n    </tr>\n    <tr>\n      <th>5</th>\n      <td>160</td>\n      <td>0.07500</td>\n      <td>adam</td>\n      <td>432.000000</td>\n    </tr>\n    <tr>\n      <th>6</th>\n      <td>190</td>\n      <td>1.00000</td>\n      <td>adam</td>\n      <td>346.000000</td>\n    </tr>\n    <tr>\n      <th>0</th>\n      <td>10</td>\n      <td>0.00500</td>\n      <td>momentum</td>\n      <td>128.000000</td>\n    </tr>\n    <tr>\n      <th>1</th>\n      <td>40</td>\n      <td>0.00250</td>\n      <td>momentum</td>\n      <td>99.750000</td>\n    </tr>\n    <tr>\n      <th>2</th>\n      <td>70</td>\n      <td>0.00125</td>\n      <td>momentum</td>\n      <td>162.500000</td>\n    </tr>\n    <tr>\n      <th>3</th>\n      <td>100</td>\n      <td>0.00100</td>\n      <td>momentum</td>\n      <td>93.250000</td>\n    </tr>\n    <tr>\n      <th>4</th>\n      <td>130</td>\n      <td>0.00100</td>\n      <td>momentum</td>\n      <td>92.250000</td>\n    </tr>\n    <tr>\n      <th>5</th>\n      <td>160</td>\n      <td>0.00075</td>\n      <td>momentum</td>\n      <td>93.250000</td>\n    </tr>\n    <tr>\n      <th>6</th>\n      <td>190</td>\n      <td>0.00075</td>\n      <td>momentum</td>\n      <td>97.750000</td>\n    </tr>\n    <tr>\n      <th>0</th>\n      <td>10</td>\n      <td>0.10000</td>\n      <td>rms</td>\n      <td>270.000000</td>\n    </tr>\n    <tr>\n      <th>1</th>\n      <td>40</td>\n      <td>0.10000</td>\n      <td>rms</td>\n      <td>213.750000</td>\n    </tr>\n    <tr>\n      <th>2</th>\n      <td>70</td>\n      <td>0.50000</td>\n      <td>rms</td>\n      <td>140.750000</td>\n    </tr>\n    <tr>\n      <th>3</th>\n      <td>100</td>\n      <td>0.25000</td>\n      <td>rms</td>\n      <td>144.750000</td>\n    </tr>\n    <tr>\n      <th>4</th>\n      <td>130</td>\n      <td>1.00000</td>\n      <td>rms</td>\n      <td>180.500000</td>\n    </tr>\n    <tr>\n      <th>5</th>\n      <td>160</td>\n      <td>0.25000</td>\n      <td>rms</td>\n      <td>183.250000</td>\n    </tr>\n    <tr>\n      <th>6</th>\n      <td>190</td>\n      <td>0.50000</td>\n      <td>rms</td>\n      <td>220.250000</td>\n    </tr>\n    <tr>\n      <th>0</th>\n      <td>10</td>\n      <td>0.00010</td>\n      <td>nesterov</td>\n      <td>1001.000000</td>\n    </tr>\n    <tr>\n      <th>1</th>\n      <td>40</td>\n      <td>0.00100</td>\n      <td>nesterov</td>\n      <td>452.250000</td>\n    </tr>\n    <tr>\n      <th>2</th>\n      <td>70</td>\n      <td>0.00100</td>\n      <td>nesterov</td>\n      <td>154.250000</td>\n    </tr>\n    <tr>\n      <th>3</th>\n      <td>100</td>\n      <td>0.00070</td>\n      <td>nesterov</td>\n      <td>192.750000</td>\n    </tr>\n    <tr>\n      <th>4</th>\n      <td>130</td>\n      <td>0.00050</td>\n      <td>nesterov</td>\n      <td>164.000000</td>\n    </tr>\n    <tr>\n      <th>5</th>\n      <td>160</td>\n      <td>0.00050</td>\n      <td>nesterov</td>\n      <td>128.750000</td>\n    </tr>\n    <tr>\n      <th>6</th>\n      <td>190</td>\n      <td>0.00040</td>\n      <td>nesterov</td>\n      <td>138.250000</td>\n    </tr>\n  </tbody>\n</table>\n</div>"
     },
     "execution_count": 7,
     "metadata": {},
     "output_type": "execute_result"
    }
   ],
   "source": [
    "df_min_iter"
   ]
  },
  {
   "cell_type": "code",
   "execution_count": 8,
   "id": "d6b9cc87",
   "metadata": {},
   "outputs": [
    {
     "data": {
      "text/plain": "       name  math_per_oper\n0   adagrad             12\n1      adam             21\n2  momentum              8\n3       rms             15\n4  nesterov             10",
      "text/html": "<div>\n<style scoped>\n    .dataframe tbody tr th:only-of-type {\n        vertical-align: middle;\n    }\n\n    .dataframe tbody tr th {\n        vertical-align: top;\n    }\n\n    .dataframe thead th {\n        text-align: right;\n    }\n</style>\n<table border=\"1\" class=\"dataframe\">\n  <thead>\n    <tr style=\"text-align: right;\">\n      <th></th>\n      <th>name</th>\n      <th>math_per_oper</th>\n    </tr>\n  </thead>\n  <tbody>\n    <tr>\n      <th>0</th>\n      <td>adagrad</td>\n      <td>12</td>\n    </tr>\n    <tr>\n      <th>1</th>\n      <td>adam</td>\n      <td>21</td>\n    </tr>\n    <tr>\n      <th>2</th>\n      <td>momentum</td>\n      <td>8</td>\n    </tr>\n    <tr>\n      <th>3</th>\n      <td>rms</td>\n      <td>15</td>\n    </tr>\n    <tr>\n      <th>4</th>\n      <td>nesterov</td>\n      <td>10</td>\n    </tr>\n  </tbody>\n</table>\n</div>"
     },
     "execution_count": 8,
     "metadata": {},
     "output_type": "execute_result"
    }
   ],
   "source": [
    "df_math_per_oper = pd.DataFrame([[i, j] for i,j in zip(names,[12, 21, 8, 15, 10])], columns=[\"name\", \"math_per_oper\"])\n",
    "\n",
    "df_math_per_oper"
   ]
  }
 ],
 "metadata": {
  "kernelspec": {
   "display_name": "Python 3 (ipykernel)",
   "language": "python",
   "name": "python3"
  },
  "language_info": {
   "codemirror_mode": {
    "name": "ipython",
    "version": 3
   },
   "file_extension": ".py",
   "mimetype": "text/x-python",
   "name": "python",
   "nbconvert_exporter": "python",
   "pygments_lexer": "ipython3",
   "version": "3.10.2"
  }
 },
 "nbformat": 4,
 "nbformat_minor": 5
}