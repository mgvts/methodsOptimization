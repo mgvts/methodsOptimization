{
 "cells": [
  {
   "cell_type": "code",
   "execution_count": 31,
   "metadata": {
    "collapsed": true
   },
   "outputs": [],
   "source": [
    "import numpy as np\n",
    "import matplotlib.pyplot as plt\n",
    "import matplotlib\n",
    "import sympy as sp\n",
    "import math\n",
    "import re\n",
    "\n",
    "\n",
    "class Func:\n",
    "    \"\"\"\n",
    "        variables is [xi for i in range(number_of_variables)]\n",
    "    \"\"\"\n",
    "\n",
    "    def __init__(self, number_of_variables: int, function_string, *args):\n",
    "        sp.init_printing(use_unicode=True)\n",
    "        self.sp_variables = sp.symbols(\"x:\" + str(number_of_variables))\n",
    "        self.string_variables = [\"x\" + str(i) for i in range(number_of_variables)]\n",
    "        self.f = sp.sympify(function_string)\n",
    "\n",
    "    def diff(self, variable):\n",
    "        return self.f.diff(self.sp_variables[self.string_variables.index(variable)])\n",
    "\n",
    "    \"\"\"\n",
    "        [(\"x0\", 1), (\"x1\", 2)] ->  [(x0, 1), (x1, 2)]\n",
    "        where x1 x2 is sp.symbols\n",
    "    \"\"\"\n",
    "\n",
    "    def _parse_arguments(self, l):\n",
    "        res = [(self.sp_variables[self.string_variables.index(variable)], value) for variable, value in l]\n",
    "        return res\n",
    "\n",
    "    # unused\n",
    "    # def _parse_function_string(self, s:str):\n",
    "    #     import re\n",
    "    #     delimiters = \"^\", \"+\", \"(c)\", \" \", \"\\n\", '0', '1', '2', '3', '4', '5', '6', '7', '8', '9', \"**\", \"sin\", \"cos\", \"(\", \")\", \"e\"\n",
    "    #     regex_pattern = '|'.join(map(re.escape, delimiters))\n",
    "    #     return [i for i in re.split(regex_pattern, s) if i != \"\"]\n",
    "\n",
    "    \"\"\"\n",
    "        variable_value = [(\"x0\", 1), (\"x1\", 2)]\n",
    "        variable_value = value\n",
    "    \"\"\"\n",
    "\n",
    "    def eval(self, variable_value):\n",
    "        return self.f.subs(self._parse_arguments(variable_value))\n",
    "\n",
    "    \"\"\"\n",
    "        without vectors like grad(\"0.5x^2 + bx + c\") = ax + b\n",
    "        without vectors like grad(\"x^2 + y^2\") = 2x + 2y\n",
    "    \"\"\"\n",
    "\n",
    "    def grad(self):\n",
    "        result = sp.sympify(\"0\")\n",
    "        for xi in self.sp_variables:\n",
    "            result += self.f.diff(xi)\n",
    "        return Func(len(self.sp_variables), str(result))\n",
    "\n",
    "    \"\"\"\n",
    "        variable_value = [(\"x0\", 1), (\"x1\", 2)]\n",
    "        variable_value = value\n",
    "    \"\"\"\n",
    "\n",
    "    def metric(self, variable_value):\n",
    "        v = list(sp.ordered(self.f.free_symbols))\n",
    "        gradient = lambda ff, v: sp.Matrix([ff]).jacobian(v)\n",
    "        g = gradient(self.f, v).subs(self._parse_arguments(variable_value))\n",
    "        res = 0\n",
    "        for i in g:\n",
    "            res += i * i\n",
    "        return sp.sqrt(res).evalf()\n",
    "\n",
    "    def __str__(self):\n",
    "        return str(self.f)"
   ]
  },
  {
   "cell_type": "code",
   "execution_count": 33,
   "outputs": [
    {
     "name": "stdout",
     "output_type": "stream",
     "text": [
      "self.sp_variables = (x0,)\n",
      "self.string_variables = ['x0']\n",
      "2\n",
      "2*x0\n",
      "self.sp_variables = (x0,)\n",
      "self.string_variables = ['x0']\n",
      "2*x0\n",
      "self.sp_variables = (x0, x1, x2)\n",
      "self.string_variables = ['x0', 'x1', 'x2']\n",
      "x1**3 + sin(x2) + 2\n",
      "2*x0\n",
      "self.sp_variables = (x0, x1, x2)\n",
      "self.string_variables = ['x0', 'x1', 'x2']\n",
      "2*x0 + 3*x1**2 + cos(x2)\n"
     ]
    }
   ],
   "source": [
    "from sympy import *\n",
    "\n",
    "x, y, z = symbols('x y z')\n",
    "init_printing(use_unicode=True)\n",
    "\"\"\"\n",
    "    examples\n",
    "\"\"\"\n",
    "f = Func(1, \"x0^2 + 1\")\n",
    "print(f.eval([(\"x0\", 1)]))\n",
    "print(f.diff(\"x0\"))\n",
    "print(f.grad())\n",
    "\n",
    "ff = Func(3, \"x0^2 + x1**3 + sin(x2) + 1\")\n",
    "print(ff.eval([(\"x0\", 1)]))\n",
    "print(ff.diff(\"x0\"))\n",
    "print(ff.grad())\n",
    "\n"
   ],
   "metadata": {
    "collapsed": false,
    "pycharm": {
     "name": "#%%\n"
    }
   }
  }
 ],
 "metadata": {
  "kernelspec": {
   "display_name": "Python 3",
   "language": "python",
   "name": "python3"
  },
  "language_info": {
   "codemirror_mode": {
    "name": "ipython",
    "version": 2
   },
   "file_extension": ".py",
   "mimetype": "text/x-python",
   "name": "python",
   "nbconvert_exporter": "python",
   "pygments_lexer": "ipython2",
   "version": "2.7.6"
  }
 },
 "nbformat": 4,
 "nbformat_minor": 0
}