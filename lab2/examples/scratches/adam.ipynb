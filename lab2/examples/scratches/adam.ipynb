{
 "cells": [
  {
   "cell_type": "code",
   "execution_count": 31,
   "metadata": {},
   "outputs": [],
   "source": [
    "import util as u"
   ]
  },
  {
   "cell_type": "code",
   "execution_count": 44,
   "metadata": {
    "scrolled": false
   },
   "outputs": [
    {
     "name": "stdout",
     "output_type": "stream",
     "text": [
      "\\begin{tabular}{lrrrllrrrr}\n",
      "\\toprule\n",
      " & count & alpha & run & name & res_point & result_err & delta_time & math_iters & math_per_oper \\\\\n",
      "\\midrule\n",
      "0 & 10 & 0.010000 & 1001 & adam & [1.4, 1.1] & NaN & 0.118994 & 21000 & 21 \\\\\n",
      "1 & 10 & 0.025000 & 537 & adam & [2.0, 1.0] & 0.000081 & 0.055000 & 11256 & 21 \\\\\n",
      "2 & 10 & 0.050000 & 397 & adam & [2.0, 1.0] & 0.000056 & 0.040000 & 8316 & 21 \\\\\n",
      "3 & 10 & 0.050000 & 355 & adam & [2.0, 1.0] & 0.000045 & 0.036000 & 7434 & 21 \\\\\n",
      "4 & 10 & 0.075000 & 311 & adam & [2.0, 1.0] & 0.000095 & 0.031000 & 6510 & 21 \\\\\n",
      "5 & 10 & 0.100000 & 331 & adam & [2.0, 1.0] & 0.000085 & 0.034000 & 6930 & 21 \\\\\n",
      "6 & 10 & 0.200000 & 253 & adam & [2.0, 1.0] & 0.000031 & 0.025011 & 5292 & 21 \\\\\n",
      "7 & 10 & 0.500000 & 993 & adam & [2.0, 1.0] & 0.000009 & 0.102978 & 20832 & 21 \\\\\n",
      "8 & 10 & 1.000000 & 1001 & adam & [2.0, 1.0] & NaN & 0.109985 & 21000 & 21 \\\\\n",
      "\\bottomrule\n",
      "\\end{tabular}\n",
      "\n"
     ]
    },
    {
     "data": {
      "text/html": [
       "<div>\n",
       "<style scoped>\n",
       "    .dataframe tbody tr th:only-of-type {\n",
       "        vertical-align: middle;\n",
       "    }\n",
       "\n",
       "    .dataframe tbody tr th {\n",
       "        vertical-align: top;\n",
       "    }\n",
       "\n",
       "    .dataframe thead th {\n",
       "        text-align: right;\n",
       "    }\n",
       "</style>\n",
       "<table border=\"1\" class=\"dataframe\">\n",
       "  <thead>\n",
       "    <tr style=\"text-align: right;\">\n",
       "      <th></th>\n",
       "      <th>count</th>\n",
       "      <th>alpha</th>\n",
       "      <th>run</th>\n",
       "      <th>name</th>\n",
       "      <th>res_point</th>\n",
       "      <th>result_err</th>\n",
       "      <th>delta_time</th>\n",
       "      <th>math_iters</th>\n",
       "      <th>math_per_oper</th>\n",
       "    </tr>\n",
       "  </thead>\n",
       "  <tbody>\n",
       "    <tr>\n",
       "      <th>0</th>\n",
       "      <td>10</td>\n",
       "      <td>0.010</td>\n",
       "      <td>1001</td>\n",
       "      <td>adam</td>\n",
       "      <td>[1.4255451064719853, 1.0967458961379524]</td>\n",
       "      <td>NaN</td>\n",
       "      <td>0.118994</td>\n",
       "      <td>21000</td>\n",
       "      <td>21</td>\n",
       "    </tr>\n",
       "    <tr>\n",
       "      <th>1</th>\n",
       "      <td>10</td>\n",
       "      <td>0.025</td>\n",
       "      <td>537</td>\n",
       "      <td>adam</td>\n",
       "      <td>[1.9923138458899248, 1.001465753601697]</td>\n",
       "      <td>0.000081</td>\n",
       "      <td>0.055000</td>\n",
       "      <td>11256</td>\n",
       "      <td>21</td>\n",
       "    </tr>\n",
       "    <tr>\n",
       "      <th>2</th>\n",
       "      <td>10</td>\n",
       "      <td>0.050</td>\n",
       "      <td>397</td>\n",
       "      <td>adam</td>\n",
       "      <td>[2.0039322476220125, 0.9996918295028021]</td>\n",
       "      <td>0.000056</td>\n",
       "      <td>0.040000</td>\n",
       "      <td>8316</td>\n",
       "      <td>21</td>\n",
       "    </tr>\n",
       "    <tr>\n",
       "      <th>3</th>\n",
       "      <td>10</td>\n",
       "      <td>0.050</td>\n",
       "      <td>355</td>\n",
       "      <td>adam</td>\n",
       "      <td>[1.995137353109833, 1.0005710329068955]</td>\n",
       "      <td>0.000045</td>\n",
       "      <td>0.036000</td>\n",
       "      <td>7434</td>\n",
       "      <td>21</td>\n",
       "    </tr>\n",
       "    <tr>\n",
       "      <th>4</th>\n",
       "      <td>10</td>\n",
       "      <td>0.075</td>\n",
       "      <td>311</td>\n",
       "      <td>adam</td>\n",
       "      <td>[2.0053537068988847, 0.9995497894825212]</td>\n",
       "      <td>0.000095</td>\n",
       "      <td>0.031000</td>\n",
       "      <td>6510</td>\n",
       "      <td>21</td>\n",
       "    </tr>\n",
       "    <tr>\n",
       "      <th>5</th>\n",
       "      <td>10</td>\n",
       "      <td>0.100</td>\n",
       "      <td>331</td>\n",
       "      <td>adam</td>\n",
       "      <td>[2.001367748948133, 0.999267522346523]</td>\n",
       "      <td>0.000085</td>\n",
       "      <td>0.034000</td>\n",
       "      <td>6930</td>\n",
       "      <td>21</td>\n",
       "    </tr>\n",
       "    <tr>\n",
       "      <th>6</th>\n",
       "      <td>10</td>\n",
       "      <td>0.200</td>\n",
       "      <td>253</td>\n",
       "      <td>adam</td>\n",
       "      <td>[1.9966182248605238, 1.0003244393629662]</td>\n",
       "      <td>0.000031</td>\n",
       "      <td>0.025011</td>\n",
       "      <td>5292</td>\n",
       "      <td>21</td>\n",
       "    </tr>\n",
       "    <tr>\n",
       "      <th>7</th>\n",
       "      <td>10</td>\n",
       "      <td>0.500</td>\n",
       "      <td>993</td>\n",
       "      <td>adam</td>\n",
       "      <td>[2.0026225348822413, 0.9995194661408363]</td>\n",
       "      <td>0.000009</td>\n",
       "      <td>0.102978</td>\n",
       "      <td>20832</td>\n",
       "      <td>21</td>\n",
       "    </tr>\n",
       "    <tr>\n",
       "      <th>8</th>\n",
       "      <td>10</td>\n",
       "      <td>1.000</td>\n",
       "      <td>1001</td>\n",
       "      <td>adam</td>\n",
       "      <td>[2.0282992236227986, 0.9623260948994408]</td>\n",
       "      <td>NaN</td>\n",
       "      <td>0.109985</td>\n",
       "      <td>21000</td>\n",
       "      <td>21</td>\n",
       "    </tr>\n",
       "  </tbody>\n",
       "</table>\n",
       "</div>"
      ],
      "text/plain": [
       "   count  alpha   run  name                                 res_point   \n",
       "0     10  0.010  1001  adam  [1.4255451064719853, 1.0967458961379524]  \\\n",
       "1     10  0.025   537  adam   [1.9923138458899248, 1.001465753601697]   \n",
       "2     10  0.050   397  adam  [2.0039322476220125, 0.9996918295028021]   \n",
       "3     10  0.050   355  adam   [1.995137353109833, 1.0005710329068955]   \n",
       "4     10  0.075   311  adam  [2.0053537068988847, 0.9995497894825212]   \n",
       "5     10  0.100   331  adam    [2.001367748948133, 0.999267522346523]   \n",
       "6     10  0.200   253  adam  [1.9966182248605238, 1.0003244393629662]   \n",
       "7     10  0.500   993  adam  [2.0026225348822413, 0.9995194661408363]   \n",
       "8     10  1.000  1001  adam  [2.0282992236227986, 0.9623260948994408]   \n",
       "\n",
       "   result_err  delta_time  math_iters  math_per_oper  \n",
       "0         NaN    0.118994       21000             21  \n",
       "1    0.000081    0.055000       11256             21  \n",
       "2    0.000056    0.040000        8316             21  \n",
       "3    0.000045    0.036000        7434             21  \n",
       "4    0.000095    0.031000        6510             21  \n",
       "5    0.000085    0.034000        6930             21  \n",
       "6    0.000031    0.025011        5292             21  \n",
       "7    0.000009    0.102978       20832             21  \n",
       "8         NaN    0.109985       21000             21  "
      ]
     },
     "execution_count": 44,
     "metadata": {},
     "output_type": "execute_result"
    }
   ],
   "source": [
    "def fix(numObj, digits=1):\n",
    "    return f\"{numObj:.{digits}f}\"\n",
    "\n",
    "df = u.read_file(\"adam\")\n",
    "df = df[[\"count\",\n",
    "         \"alpha\",\n",
    "         \"run\",\n",
    "         \"name\",\n",
    "         \"res_point\",\n",
    "         \"result_err\",\n",
    "         \"delta_time\",\n",
    "         \"math_iters\"]]\n",
    "\n",
    "na_df = df[df[\"result_err\"].isna()]\n",
    "val_total_math_iter = int(na_df[na_df[\"count\"] == 10][\"math_iters\"].mean() / 1000)\n",
    "df.insert(\n",
    "    loc= len(df.columns),\n",
    "    column='math_per_oper',\n",
    "    value=[val_total_math_iter for i in range(df.shape[0])])\n",
    "print(df.head(9).to_latex(\n",
    "    formatters={\"res_point\" : lambda x: [float(fix(i, 1)) for i in x]}))\n",
    "df.head(9)"
   ]
  },
  {
   "cell_type": "markdown",
   "metadata": {},
   "source": [
    "решено было взять такие 𝛼 так в силу того что adam не использует в себе 𝛼 опытным путём видно, что в границах, уже метод не сходится "
   ]
  },
  {
   "cell_type": "code",
   "execution_count": 38,
   "metadata": {},
   "outputs": [
    {
     "data": {
      "text/plain": [
       "array([0.01 , 0.025, 0.05 , 0.075, 0.1  , 0.2  , 0.5  , 1.   , 5.   ])"
      ]
     },
     "execution_count": 38,
     "metadata": {},
     "output_type": "execute_result"
    }
   ],
   "source": [
    "#get_alpha(df)\n",
    "df[\"alpha\"].unique()"
   ]
  },
  {
   "cell_type": "code",
   "execution_count": 39,
   "metadata": {},
   "outputs": [
    {
     "name": "stdout",
     "output_type": "stream",
     "text": [
      "\\begin{tabular}{lr}\n",
      "\\toprule\n",
      " & result_err \\\\\n",
      "alpha &  \\\\\n",
      "\\midrule\n",
      "0.010000 & 28 \\\\\n",
      "0.025000 & 13 \\\\\n",
      "0.050000 & 0 \\\\\n",
      "0.075000 & 0 \\\\\n",
      "0.100000 & 0 \\\\\n",
      "0.200000 & 4 \\\\\n",
      "0.500000 & 19 \\\\\n",
      "1.000000 & 24 \\\\\n",
      "5.000000 & 28 \\\\\n",
      "\\bottomrule\n",
      "\\end{tabular}\n",
      "\n"
     ]
    }
   ],
   "source": [
    "print(df.groupby('alpha')['result_err'].apply(lambda x: x.isna().sum()).to_latex())"
   ]
  },
  {
   "cell_type": "code",
   "execution_count": 40,
   "metadata": {},
   "outputs": [],
   "source": [
    "df_na = df.dropna()"
   ]
  },
  {
   "cell_type": "code",
   "execution_count": 42,
   "metadata": {},
   "outputs": [
    {
     "name": "stdout",
     "output_type": "stream",
     "text": [
      "\\begin{tabular}{llr}\n",
      "\\toprule\n",
      " &  & run \\\\\n",
      "count & alpha &  \\\\\n",
      "\\midrule\n",
      "\\multirow[t]{6}{*}{10} & 0.025000 & 576.0 \\\\\n",
      " & 0.050000 & 563.1 \\\\\n",
      " & 0.075000 & 442.8 \\\\\n",
      " & 0.100000 & 386.0 \\\\\n",
      " & 0.200000 & 309.0 \\\\\n",
      " & 0.500000 & 608.7 \\\\\n",
      "\\cline{1-3}\n",
      "\\multirow[t]{6}{*}{40} & 0.025000 & 692.3 \\\\\n",
      " & 0.050000 & 486.1 \\\\\n",
      " & 0.075000 & 397.8 \\\\\n",
      " & 0.100000 & 439.5 \\\\\n",
      " & 0.200000 & 352.7 \\\\\n",
      " & 1.000000 & 896.5 \\\\\n",
      "\\cline{1-3}\n",
      "\\multirow[t]{6}{*}{70} & 0.025000 & 576.0 \\\\\n",
      " & 0.050000 & 517.2 \\\\\n",
      " & 0.075000 & 481.0 \\\\\n",
      " & 0.100000 & 410.0 \\\\\n",
      " & 0.200000 & 520.2 \\\\\n",
      " & 0.500000 & 806.0 \\\\\n",
      "\\cline{1-3}\n",
      "\\multirow[t]{6}{*}{100} & 0.025000 & 593.5 \\\\\n",
      " & 0.050000 & 527.1 \\\\\n",
      " & 0.075000 & 438.2 \\\\\n",
      " & 0.100000 & 452.5 \\\\\n",
      " & 0.200000 & 352.7 \\\\\n",
      " & 0.500000 & 428.5 \\\\\n",
      "\\cline{1-3}\n",
      "\\multirow[t]{7}{*}{130} & 0.025000 & 583.0 \\\\\n",
      " & 0.050000 & 518.4 \\\\\n",
      " & 0.075000 & 477.0 \\\\\n",
      " & 0.100000 & 359.0 \\\\\n",
      " & 0.200000 & 414.7 \\\\\n",
      " & 0.500000 & 729.5 \\\\\n",
      " & 1.000000 & 443.0 \\\\\n",
      "\\cline{1-3}\n",
      "\\multirow[t]{6}{*}{160} & 0.025000 & 595.5 \\\\\n",
      " & 0.050000 & 531.2 \\\\\n",
      " & 0.075000 & 432.0 \\\\\n",
      " & 0.100000 & 435.8 \\\\\n",
      " & 0.200000 & 505.8 \\\\\n",
      " & 0.500000 & 808.0 \\\\\n",
      "\\cline{1-3}\n",
      "\\multirow[t]{6}{*}{190} & 0.025000 & 604.0 \\\\\n",
      " & 0.050000 & 511.6 \\\\\n",
      " & 0.075000 & 474.5 \\\\\n",
      " & 0.100000 & 428.5 \\\\\n",
      " & 0.200000 & 600.0 \\\\\n",
      " & 1.000000 & 346.0 \\\\\n",
      "\\cline{1-3}\n",
      "\\bottomrule\n",
      "\\end{tabular}\n",
      "\n"
     ]
    }
   ],
   "source": [
    "print(\n",
    "    df_na.groupby(['count', 'alpha'])['run']\n",
    "    .apply(lambda x: x.mean()).to_latex(float_format=\"{:.1f}\".format))"
   ]
  },
  {
   "cell_type": "code",
   "execution_count": 9,
   "metadata": {},
   "outputs": [
    {
     "data": {
      "text/plain": [
       "512.8110465116279"
      ]
     },
     "execution_count": 9,
     "metadata": {},
     "output_type": "execute_result"
    }
   ],
   "source": [
    "df_na.groupby(['count', 'alpha'])['run'].apply(lambda x: x.mean()).mean()"
   ]
  },
  {
   "cell_type": "code",
   "execution_count": 7,
   "metadata": {},
   "outputs": [
    {
     "data": {
      "text/plain": [
       "count  alpha\n",
       "10     0.025    0.058633\n",
       "       0.050    0.057682\n",
       "       0.075    0.044509\n",
       "       0.100    0.038746\n",
       "       0.200    0.030748\n",
       "       0.500    0.062863\n",
       "40     0.025    0.156670\n",
       "       0.050    0.102809\n",
       "       0.075    0.082084\n",
       "       0.100    0.096250\n",
       "       0.200    0.076295\n",
       "       1.000    0.184628\n",
       "70     0.025    0.195999\n",
       "       0.050    0.177320\n",
       "       0.075    0.167129\n",
       "       0.100    0.140992\n",
       "       0.200    0.178504\n",
       "       0.500    0.275019\n",
       "100    0.025    0.314545\n",
       "       0.050    0.277074\n",
       "       0.075    0.247176\n",
       "       0.100    0.245742\n",
       "       0.200    0.187339\n",
       "       0.500    0.223007\n",
       "130    0.025    0.407506\n",
       "       0.050    0.364331\n",
       "       0.075    0.333138\n",
       "       0.100    0.245916\n",
       "       0.200    0.287007\n",
       "       0.500    0.514294\n",
       "       1.000    0.305003\n",
       "160    0.025    0.522746\n",
       "       0.050    0.467502\n",
       "       0.075    0.376996\n",
       "       0.100    0.384964\n",
       "       0.200    0.445702\n",
       "       0.500    0.707383\n",
       "190    0.025    0.675238\n",
       "       0.050    0.580720\n",
       "       0.075    0.525227\n",
       "       0.100    0.475899\n",
       "       0.200    0.669673\n",
       "       1.000    0.377000\n",
       "Name: delta_time, dtype: float64"
      ]
     },
     "execution_count": 7,
     "metadata": {},
     "output_type": "execute_result"
    }
   ],
   "source": [
    "df_na.groupby(['count', 'alpha'])['delta_time'].apply(lambda x: x.mean())"
   ]
  },
  {
   "cell_type": "code",
   "execution_count": 8,
   "metadata": {},
   "outputs": [
    {
     "data": {
      "text/plain": [
       "count  alpha\n",
       "10     0.025    12075.000\n",
       "       0.050    11804.625\n",
       "       0.075     9276.750\n",
       "       0.100     8085.000\n",
       "       0.200     6468.000\n",
       "       0.500    12761.000\n",
       "40     0.025    14518.000\n",
       "       0.050    10187.625\n",
       "       0.075     8331.750\n",
       "       0.100     9208.500\n",
       "       0.200     7385.000\n",
       "       1.000    18805.500\n",
       "70     0.025    12075.000\n",
       "       0.050    10841.250\n",
       "       0.075    10080.000\n",
       "       0.100     8589.000\n",
       "       0.200    10904.250\n",
       "       0.500    16905.000\n",
       "100    0.025    12442.500\n",
       "       0.050    11048.625\n",
       "       0.075     9182.250\n",
       "       0.100     9481.500\n",
       "       0.200     7385.000\n",
       "       0.500     8977.500\n",
       "130    0.025    12222.000\n",
       "       0.050    10864.875\n",
       "       0.075     9996.000\n",
       "       0.100     7518.000\n",
       "       0.200     8687.000\n",
       "       0.500    15298.500\n",
       "       1.000     9282.000\n",
       "160    0.025    12484.500\n",
       "       0.050    11135.250\n",
       "       0.075     9051.000\n",
       "       0.100     9129.750\n",
       "       0.200    10599.750\n",
       "       0.500    16947.000\n",
       "190    0.025    12663.000\n",
       "       0.050    10723.125\n",
       "       0.075     9943.500\n",
       "       0.100     8977.500\n",
       "       0.200    12579.000\n",
       "       1.000     7245.000\n",
       "Name: math_iters, dtype: float64"
      ]
     },
     "execution_count": 8,
     "metadata": {},
     "output_type": "execute_result"
    }
   ],
   "source": [
    "df_na.groupby(['count', 'alpha'])['math_iters'].apply(lambda x: x.mean())"
   ]
  }
 ],
 "metadata": {
  "kernelspec": {
   "display_name": "Python 3 (ipykernel)",
   "language": "python",
   "name": "python3"
  },
  "language_info": {
   "codemirror_mode": {
    "name": "ipython",
    "version": 3
   },
   "file_extension": ".py",
   "mimetype": "text/x-python",
   "name": "python",
   "nbconvert_exporter": "python",
   "pygments_lexer": "ipython3",
   "version": "3.10.2"
  }
 },
 "nbformat": 4,
 "nbformat_minor": 1
}
