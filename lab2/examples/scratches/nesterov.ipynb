{
 "cells": [
  {
   "cell_type": "code",
   "execution_count": 16,
   "metadata": {},
   "outputs": [],
   "source": [
    "import util as u"
   ]
  },
  {
   "cell_type": "code",
   "execution_count": 17,
   "metadata": {},
   "outputs": [
    {
     "name": "stdout",
     "output_type": "stream",
     "text": [
      "\\begin{tabular}{lrrrllrrrr}\n",
      "\\toprule\n",
      " & count & alpha & run & name & res_point & result_err & delta_time & math_iters & math_per_oper \\\\\n",
      "\\midrule\n",
      "0 & 10 & 0.000100 & 1001 & nesterov & [5.3, 0.5] & NaN & 0.157079 & 10000 & 10 \\\\\n",
      "1 & 10 & 0.000250 & 1001 & nesterov & [3.2, 0.8] & NaN & 0.148067 & 10000 & 10 \\\\\n",
      "2 & 10 & 0.000300 & 1001 & nesterov & [2.9, 0.9] & NaN & 0.133708 & 10000 & 10 \\\\\n",
      "3 & 10 & 0.000400 & 1001 & nesterov & [2.4, 0.9] & NaN & 0.130702 & 10000 & 10 \\\\\n",
      "4 & 10 & 0.000500 & 1001 & nesterov & [2.2, 1.0] & NaN & 0.129584 & 10000 & 10 \\\\\n",
      "5 & 10 & 0.000700 & 1001 & nesterov & [2.1, 1.0] & NaN & 0.123204 & 10000 & 10 \\\\\n",
      "6 & 10 & 0.001000 & 1001 & nesterov & [2.0, 1.0] & NaN & 0.118199 & 10000 & 10 \\\\\n",
      "\\bottomrule\n",
      "\\end{tabular}\n",
      "\n"
     ]
    }
   ],
   "source": [
    "def fix(numObj, digits=1):\n",
    "    return f\"{numObj:.{digits}f}\"\n",
    "\n",
    "\n",
    "df =u.read_file(\"nesterov\")\n",
    "df = df[[\"count\",\n",
    "         \"alpha\",\n",
    "         \"run\",\n",
    "         \"name\",\n",
    "         \"res_point\",\n",
    "         \"result_err\",\n",
    "         \"delta_time\",\n",
    "         \"math_iters\"]]\n",
    "\n",
    "na_df = df[df[\"result_err\"].isna()]\n",
    "val_total_math_iter = int(na_df[na_df[\"count\"] == 10][\"math_iters\"].mean() / 1000)\n",
    "df.insert(\n",
    "    loc= len(df.columns),\n",
    "    column='math_per_oper',\n",
    "    value=[val_total_math_iter for i in range(df.shape[0])])\n",
    "print(df.head(7).to_latex(\n",
    "    formatters={\"res_point\" : lambda x: [float(fix(i, 1)) for i in x]}))"
   ]
  },
  {
   "cell_type": "code",
   "execution_count": 18,
   "metadata": {},
   "outputs": [
    {
     "data": {
      "text/plain": [
       "array([0.0001 , 0.00025, 0.0003 , 0.0004 , 0.0005 , 0.0007 , 0.001  ])"
      ]
     },
     "execution_count": 18,
     "metadata": {},
     "output_type": "execute_result"
    }
   ],
   "source": [
    "df[\"alpha\"].unique()"
   ]
  },
  {
   "cell_type": "code",
   "execution_count": 8,
   "metadata": {},
   "outputs": [
    {
     "data": {
      "text/plain": [
       "array([0.0004])"
      ]
     },
     "execution_count": 8,
     "metadata": {},
     "output_type": "execute_result"
    }
   ],
   "source": [
    "#get_alpha(df)\n",
    "df[\"alpha\"].unique()"
   ]
  },
  {
   "cell_type": "code",
   "execution_count": 19,
   "metadata": {},
   "outputs": [
    {
     "name": "stdout",
     "output_type": "stream",
     "text": [
      "alpha\n",
      "0.00010    16\n",
      "0.00025     8\n",
      "0.00030     8\n",
      "0.00040     8\n",
      "0.00050     8\n",
      "0.00070    12\n",
      "0.00100    20\n",
      "Name: result_err, dtype: int64\n"
     ]
    }
   ],
   "source": [
    "print(df.groupby('alpha')['result_err'].apply(lambda x: x.isna().sum()))"
   ]
  },
  {
   "cell_type": "code",
   "execution_count": 12,
   "metadata": {},
   "outputs": [],
   "source": [
    "df_na = df.dropna()"
   ]
  },
  {
   "cell_type": "code",
   "execution_count": 20,
   "metadata": {},
   "outputs": [
    {
     "data": {
      "text/plain": [
       "count  alpha  \n",
       "40     0.00050    926.75\n",
       "       0.00070    658.00\n",
       "       0.00100    452.25\n",
       "70     0.00025    725.75\n",
       "       0.00030    602.00\n",
       "       0.00040    442.00\n",
       "       0.00050    348.75\n",
       "       0.00070    240.25\n",
       "       0.00100    154.25\n",
       "100    0.00025    598.75\n",
       "       0.00030    493.25\n",
       "       0.00040    363.50\n",
       "       0.00050    283.25\n",
       "       0.00070    192.75\n",
       "130    0.00010    965.50\n",
       "       0.00025    366.25\n",
       "       0.00030    300.25\n",
       "       0.00040    216.00\n",
       "       0.00050    164.00\n",
       "       0.00070    177.50\n",
       "160    0.00010    782.25\n",
       "       0.00025    292.75\n",
       "       0.00030    238.50\n",
       "       0.00040    168.50\n",
       "       0.00050    128.75\n",
       "190    0.00010    676.50\n",
       "       0.00025    250.00\n",
       "       0.00030    200.50\n",
       "       0.00040    138.25\n",
       "Name: run, dtype: float64"
      ]
     },
     "execution_count": 20,
     "metadata": {},
     "output_type": "execute_result"
    }
   ],
   "source": [
    "df_na.groupby(['count', 'alpha'])['run'].apply(lambda x: x.mean())"
   ]
  },
  {
   "cell_type": "code",
   "execution_count": 15,
   "metadata": {},
   "outputs": [
    {
     "name": "stdout",
     "output_type": "stream",
     "text": [
      "\\begin{tabular}{llr}\n",
      "\\toprule\n",
      " &  & run \\\\\n",
      "count & alpha &  \\\\\n",
      "\\midrule\n",
      "\\multirow[t]{3}{*}{40} & 0.000500 & 926.750000 \\\\\n",
      " & 0.000700 & 658.000000 \\\\\n",
      " & 0.001000 & 452.250000 \\\\\n",
      "\\cline{1-3}\n",
      "\\multirow[t]{6}{*}{70} & 0.000250 & 725.750000 \\\\\n",
      " & 0.000300 & 602.000000 \\\\\n",
      " & 0.000400 & 442.000000 \\\\\n",
      " & 0.000500 & 348.750000 \\\\\n",
      " & 0.000700 & 240.250000 \\\\\n",
      " & 0.001000 & 154.250000 \\\\\n",
      "\\cline{1-3}\n",
      "\\multirow[t]{5}{*}{100} & 0.000250 & 598.750000 \\\\\n",
      " & 0.000300 & 493.250000 \\\\\n",
      " & 0.000400 & 363.500000 \\\\\n",
      " & 0.000500 & 283.250000 \\\\\n",
      " & 0.000700 & 192.750000 \\\\\n",
      "\\cline{1-3}\n",
      "\\multirow[t]{6}{*}{130} & 0.000100 & 965.500000 \\\\\n",
      " & 0.000250 & 366.250000 \\\\\n",
      " & 0.000300 & 300.250000 \\\\\n",
      " & 0.000400 & 216.000000 \\\\\n",
      " & 0.000500 & 164.000000 \\\\\n",
      " & 0.000700 & 177.500000 \\\\\n",
      "\\cline{1-3}\n",
      "\\multirow[t]{5}{*}{160} & 0.000100 & 782.250000 \\\\\n",
      " & 0.000250 & 292.750000 \\\\\n",
      " & 0.000300 & 238.500000 \\\\\n",
      " & 0.000400 & 168.500000 \\\\\n",
      " & 0.000500 & 128.750000 \\\\\n",
      "\\cline{1-3}\n",
      "\\multirow[t]{4}{*}{190} & 0.000100 & 676.500000 \\\\\n",
      " & 0.000250 & 250.000000 \\\\\n",
      " & 0.000300 & 200.500000 \\\\\n",
      " & 0.000400 & 138.250000 \\\\\n",
      "\\cline{1-3}\n",
      "\\bottomrule\n",
      "\\end{tabular}\n",
      "\n"
     ]
    }
   ],
   "source": [
    "print(df_na.groupby(['count', 'alpha'])['run'].apply(lambda x: x.mean()).to_latex())"
   ]
  }
 ],
 "metadata": {
  "kernelspec": {
   "display_name": "Python 3 (ipykernel)",
   "language": "python",
   "name": "python3"
  },
  "language_info": {
   "codemirror_mode": {
    "name": "ipython",
    "version": 3
   },
   "file_extension": ".py",
   "mimetype": "text/x-python",
   "name": "python",
   "nbconvert_exporter": "python",
   "pygments_lexer": "ipython3",
   "version": "3.10.2"
  }
 },
 "nbformat": 4,
 "nbformat_minor": 1
}
